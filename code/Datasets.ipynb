{
 "cells": [
  {
   "cell_type": "code",
   "execution_count": 1,
   "metadata": {},
   "outputs": [],
   "source": [
    "import os\n",
    "import tensorflow as tf\n",
    "working_path = os.getcwd()"
   ]
  },
  {
   "cell_type": "code",
   "execution_count": 25,
   "metadata": {},
   "outputs": [],
   "source": [
    "def split_text_label(path, filename):\n",
    "    with open(os.path.join(path, filename + \".txt\"), 'r', encoding='utf-8') as fin:\n",
    "        lines = fin.readlines()\n",
    "    idx, text, label = [], [], []\n",
    "    for line in lines:\n",
    "        content = eval(line)\n",
    "        idx.append(content[0])\n",
    "        text.append(content[1])\n",
    "        label.append(content[2])\n",
    "    with open(os.path.join(path, filename+\"_text.txt\"), 'w', encoding='utf-8') as fout:\n",
    "        for line in text:\n",
    "            fout.write(line + '\\n')\n",
    "    return idx, text, label\n",
    "\n",
    "train_idx, train_text, train_label = split_text_label(os.path.join(working_path, 'text_data'), 'train')\n"
   ]
  },
  {
   "cell_type": "code",
   "execution_count": 22,
   "metadata": {},
   "outputs": [
    {
     "data": {
      "text/plain": [
       "'22 super funny quotes # funnyquotes  # funnysayings # hilariousquotes # quotes <user>'"
      ]
     },
     "execution_count": 22,
     "metadata": {},
     "output_type": "execute_result"
    }
   ],
   "source": [
    "train_text[6]"
   ]
  },
  {
   "cell_type": "code",
   "execution_count": 26,
   "metadata": {},
   "outputs": [
    {
     "name": "stdout",
     "output_type": "stream",
     "text": [
      "<TextLineDatasetV2 shapes: (), types: tf.string>\n"
     ]
    },
    {
     "data": {
      "text/plain": [
       "[b'most # funny quotes : 21 snarky and # funny quotes  # # funnyquotes # hilariousquotes # humor # lol ... <url> \\xe2\\x80\\xa6',\n",
       " b' spurs # creativethinking ! <url>',\n",
       " b'<user> thanks for showing up for our appointment today . ',\n",
       " b\"only a hardcore fan of sir jonny sins will get it . won 't it ? pic credit - <url>  <url>\",\n",
       " b'haha .  # lol']"
      ]
     },
     "execution_count": 26,
     "metadata": {},
     "output_type": "execute_result"
    }
   ],
   "source": [
    "text_dataset = tf.data.TextLineDataset(os.path.join(working_path, 'text_data', 'train_text.txt'))\n",
    "print(text_dataset)\n",
    "list(text_dataset.take(5).as_numpy_iterator())"
   ]
  },
  {
   "cell_type": "code",
   "execution_count": 27,
   "metadata": {},
   "outputs": [],
   "source": [
    "text_label = tf.data.Dataset.from_tensor_slices(tf.cast(train_label, tf.int32))"
   ]
  },
  {
   "cell_type": "code",
   "execution_count": 29,
   "metadata": {},
   "outputs": [
    {
     "data": {
      "text/plain": [
       "[1, 1, 1, 1, 1]"
      ]
     },
     "execution_count": 29,
     "metadata": {},
     "output_type": "execute_result"
    }
   ],
   "source": [
    "list(text_label.take(5).as_numpy_iterator())"
   ]
  },
  {
   "cell_type": "code",
   "execution_count": 34,
   "metadata": {},
   "outputs": [
    {
     "data": {
      "text/plain": [
       "12280"
      ]
     },
     "execution_count": 34,
     "metadata": {},
     "output_type": "execute_result"
    }
   ],
   "source": [
    "import pickle\n",
    "f = open(os.path.join(working_path, 'text_embedding', 'vocab.pickle'), 'rb')\n",
    "word2idx = pickle.load(f, encoding='utf-8')\n",
    "vocab = set([key for key in word2idx.keys()])\n",
    "len(vocab)"
   ]
  },
  {
   "cell_type": "code",
   "execution_count": 44,
   "metadata": {},
   "outputs": [
    {
     "ename": "ModuleNotFoundError",
     "evalue": "No module named 'tensorflow_text'",
     "output_type": "error",
     "traceback": [
      "\u001b[1;31m---------------------------------------------------------------------------\u001b[0m",
      "\u001b[1;31mModuleNotFoundError\u001b[0m                       Traceback (most recent call last)",
      "\u001b[1;32m<ipython-input-44-537543f61706>\u001b[0m in \u001b[0;36m<module>\u001b[1;34m\u001b[0m\n\u001b[1;32m----> 1\u001b[1;33m \u001b[1;32mimport\u001b[0m \u001b[0mtensorflow_text\u001b[0m \u001b[1;32mas\u001b[0m \u001b[0mtext\u001b[0m\u001b[1;33m\u001b[0m\u001b[1;33m\u001b[0m\u001b[0m\n\u001b[0m\u001b[0;32m      2\u001b[0m \u001b[0mtokenizer\u001b[0m \u001b[1;33m=\u001b[0m \u001b[0mtext\u001b[0m\u001b[1;33m.\u001b[0m\u001b[0mWhitespaceTokenizer\u001b[0m\u001b[1;33m(\u001b[0m\u001b[1;33m)\u001b[0m\u001b[1;33m\u001b[0m\u001b[1;33m\u001b[0m\u001b[0m\n",
      "\u001b[1;31mModuleNotFoundError\u001b[0m: No module named 'tensorflow_text'"
     ]
    }
   ],
   "source": [
    "import tensorflow_text as text\n",
    "tokenizer = text.WhitespaceTokenizer()"
   ]
  },
  {
   "cell_type": "code",
   "execution_count": null,
   "metadata": {},
   "outputs": [],
   "source": []
  }
 ],
 "metadata": {
  "kernelspec": {
   "display_name": "tf2",
   "language": "python",
   "name": "tf2"
  },
  "language_info": {
   "codemirror_mode": {
    "name": "ipython",
    "version": 3
   },
   "file_extension": ".py",
   "mimetype": "text/x-python",
   "name": "python",
   "nbconvert_exporter": "python",
   "pygments_lexer": "ipython3",
   "version": "3.7.9"
  }
 },
 "nbformat": 4,
 "nbformat_minor": 4
}
